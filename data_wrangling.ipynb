{
 "cells": [
  {
   "cell_type": "markdown",
   "metadata": {},
   "source": [
    "# Capstone Project 1 - Data Wrangling"
   ]
  },
  {
   "cell_type": "markdown",
   "metadata": {},
   "source": [
    "## 0. Introduction to the datasets\n",
    "\n",
    "The raw data files in this project are acquired from UCI Repository at: <br>\n",
    "1) https://archive.ics.uci.edu/ml/datasets/PM2.5+Data+of+Five+Chinese+Cities<br>\n",
    "2) https://archive.ics.uci.edu/ml/datasets/Beijing+PM2.5+Data \n",
    "\n",
    "These raw csv files include:<br>\n",
    "    1) ‘beijing.csv’, ’shanghai.csv’, ‘guangzhou.csv’, ‘chengdu.csv’, ‘shenyang.csv’\n",
    "These five csv files contain hourly PM2.5 measurements for five major Chinese cities respectively, along with many other meteorological readings collected during the period of 2010-2015. These meteorological readings include dew point (‘DEWP’), temperature(‘TEMP’), humidity(‘HUMI’), pressure(‘PRES’), combined wind direction(‘cbwd’), cumulative wind speed (‘Iws’), hourly precipitation (‘precipitation’) and cumulative precipitation (‘Iprec’). <br>\n",
    "    2) ‘beijing_2.csv’\n",
    "This csv file contains similar hourly measurement data for city Beijing alone during the period of 2010-2014, with two unique columns, cumulative hours of snow (‘Is’) and cumulative hours of rain (‘Ir’). "
   ]
  },
  {
   "cell_type": "markdown",
   "metadata": {},
   "source": [
    "## 1. Import relevant modules\n",
    "Let's start by importing all relevant modules and packages"
   ]
  },
  {
   "cell_type": "code",
   "execution_count": 1,
   "metadata": {},
   "outputs": [],
   "source": [
    "import pandas as pd\n",
    "import matplotlib.pyplot as plt\n",
    "import numpy as np\n",
    "%matplotlib inline"
   ]
  },
  {
   "cell_type": "markdown",
   "metadata": {},
   "source": [
    "## 2. Import raw data files\n",
    "Here, pd.read_csv() is used to import all six raw csv files into pandas as dataframes.<br>\n",
    "While importing, a new column ‘city’ is added to label the city(source of the csv file) each entry is associated with.<br>\n",
    "After importing, use pd.concat() to concatenate all six dataframes into one single dataframe named as pm_raw."
   ]
  },
  {
   "cell_type": "code",
   "execution_count": 2,
   "metadata": {},
   "outputs": [],
   "source": [
    "#create an empty list named dfs to temperarily store individual dfs for concatenating later\n",
    "dfs=[]\n",
    "\n",
    "#import all six csv files into pandas and add a new column to label the city(source of the csv file) each observation is associated with\n",
    "citynames = ['beijing','shanghai','guangzhou','chengdu','shenyang','beijing_2']\n",
    "for cityname in citynames:\n",
    "    df = pd.read_csv('datasets/{}.csv'.format(cityname))\n",
    "    #add a column 'City' to each dataset to store the city information for the corresponding dataset\n",
    "    df['city'] = cityname\n",
    "    #append each df to the list dfs\n",
    "    dfs.append(df)\n",
    "\n",
    "#concatenate all dfs into a single dataframe named pm_raw\n",
    "pm_raw=pd.concat(dfs, sort=False)\n",
    "#reset index after concatenation and discard the original index\n",
    "pm_raw=pm_raw.reset_index(drop=True)"
   ]
  },
  {
   "cell_type": "markdown",
   "metadata": {},
   "source": [
    "## 3. Understanding the dataset & Choose data wrangling strategies\n",
    "\n",
    "Exploratory commands, including df.info(),df.head(),df.tail(),df.describe(),df.columns etc., are executed behind the scene to build a quick understanding of the dataset.<br> \n",
    "In addition, because the data come from six separate csv files, boolean index is used to slice and look up the column names imported from each csv file. This reveals the similarities and differences among data from different csv files."
   ]
  },
  {
   "cell_type": "markdown",
   "metadata": {},
   "source": [
    "### Understanding the dataset: \n",
    "\n",
    "This is a large time series dataset with 306744 rows and 30 columns, as a combination of datetime records and various measurements taken at multiple stations in each city for a total of five cites in China from year 2010 to 2015. Given the large size of this raw dataset, the approach is to divide it into a few subsets according to its characteristics.\n",
    "\n",
    "### Characteristis of the dataset:\n",
    "\n",
    "1) Common columns: \n",
    "    - datetime related columns: 'year','month','day','hour','season'\n",
    "    - measurement related columns: 'PM_US Post','DEWP','HUMI','PRES','TEMP','cbwd','Iws','precipitation','Iprec'\n",
    "    - other columns: 'No', 'city'\n",
    "2) city-specific columns: \n",
    "   Besides 'PM_US Post', additional PM2.5 data are available from different stations for each city, and labeled by their station-specific column names. e.g.:\n",
    "    - beijing: 'PM_Dongsi', 'PM_Dongsihuan', 'PM_Nongzhanguan'\n",
    "    - shanghai: 'PM_Jingan','PM_Xuhui'\n",
    "    - guangzhou: 'PM_City Station', 'PM_5th Middle School' \n",
    "    - chengdu: 'PM_Caotangsi', 'PM_Shahepu'\n",
    "    - shenyang: 'PM_Taiyuanjie', 'PM_Xiaoheyan' \n",
    "    These can be extracted as a subset for comparing the measurement consistency among stations in each city.\n",
    "3) Measurement-specific columns:\n",
    "    - 'Is':'Cumulated hours of snow' \n",
    "    - 'Ir':'Cumulated hours of rain'\n",
    "   Besides the dataset for 'beijing', there is another set for 'beijing_2', which contains mostly redundant data as dataset 'beijing', except for two additional columns named 'Is' and 'Ir'. These can be extracted as a subset of city 'beijing_2' for comparing the impact of snow versus rain.\n",
    "4) Missing data and outliers:\n",
    "    Many missing data are present in several columns. Also, suspicious large data points are spotted from descriptive satistics, indicating outliers.\n",
    "    \n",
    "### Data wrangling strategies:\n",
    "\n",
    "Based on the above characteristics, the following strategies are chosen:\n",
    "\n",
    "1) Three additional columns will be added:<br>\n",
    "    **'date_time': **<br>\n",
    "    datetime information is stored in separated columns in the raw dataset. For further analysis and plotting purpose, a new DateTime formatted column will be created by combining 'year','month','day','hour' columns<br>\n",
    "    **'pm_average':** <br>\n",
    "    There is no reason to choose the PM2.5 data from one station over those from other stations, therefore it's most representative to use the average of all PM2.5 readings(including 'PM_US Post') for each city in most of the analysis and visualization purposes. Therefore, a column containing float values representing the average of pm2.5 readings from multiple stations of the same city will be calculated and added. On the other hand, the station-specific individual PM2.5 readings will be extracted as a separate dataset for comparing the measurement consistency among stations for each city.<br>\n",
    "    **'ws':**<br>\n",
    "    The 'iws' column records cumulated wind speed over time, however the numbers in this column contain periodically reset to zero when wind direction alters, causing undesired artifacts. Therefore, it makes better sense to extract the hourly wind speed data ('ws') from cumulated wind speed ('iws') and use 'ws' for analysis instead.\n",
    "\n",
    "2) The raw dataset pm_raw will be separated into three separate subsets for cleaning, analysis and visualization:<br>\n",
    "    **pm_clean:** <br>\n",
    "    this is the main dataset containing the measurement data for all five cities, here the average pm2.5 reading for each city is used instead of pm2.5 data from individual stations<br>\n",
    "    **pm_stations:** <br>\n",
    "    this is a side dataset containing station-specific individual PM2.5 readings. This dataset serves the purpose of comparing the measurement consistency among stations for each city.<br>\n",
    "    **pm_sr: **<br>\n",
    "    this is also a side dataset containing information on cumulated hours of snows and rains for city 'beijing'. This dataset serves the purpose of comparing the impact of snow versus rain on PM2.5 readings.<br>\n",
    " \n",
    "3) Missing values and outliers will be evaluated and addressed within each subset. "
   ]
  },
  {
   "cell_type": "markdown",
   "metadata": {},
   "source": [
    "## 4. pm_clean: extraction, data wrangling and export\n",
    "pm_clean is the main set extracted from the raw dataset. It contains the measurement data for all five cities, here the average pm2.5 reading for each city is used instead of pm2.5 data from individual stations."
   ]
  },
  {
   "cell_type": "markdown",
   "metadata": {},
   "source": [
    "### Extract pm_clean from pm_raw"
   ]
  },
  {
   "cell_type": "code",
   "execution_count": 3,
   "metadata": {},
   "outputs": [],
   "source": [
    "#slice relevent columns from pm_raw and store in the main set pm_clean\n",
    "pm_clean = pm_raw[['year','month','day','hour','season','DEWP','HUMI','PRES','TEMP','cbwd','Iws','precipitation','Iprec','city']]"
   ]
  },
  {
   "cell_type": "markdown",
   "metadata": {},
   "source": [
    "### Drop irrelevant entries from pm_clean"
   ]
  },
  {
   "cell_type": "code",
   "execution_count": 4,
   "metadata": {},
   "outputs": [],
   "source": [
    "#drop all data from pm_clean where 'city' is 'beijing_2', these data is intended to be handled in a separate subset pm_sr\n",
    "pm_clean = pm_clean[pm_clean['city'] != 'beijing_2']\n",
    "#update index and discard the original\n",
    "pm_clean.reset_index(drop=True,inplace=True)"
   ]
  },
  {
   "cell_type": "markdown",
   "metadata": {},
   "source": [
    "### Set uniform format for column names"
   ]
  },
  {
   "cell_type": "code",
   "execution_count": 5,
   "metadata": {},
   "outputs": [
    {
     "name": "stdout",
     "output_type": "stream",
     "text": [
      "Index(['year', 'month', 'day', 'hour', 'season', 'dewp', 'humi', 'pres',\n",
      "       'temp', 'cbwd', 'iws', 'precipitation', 'iprec', 'city'],\n",
      "      dtype='object')\n"
     ]
    }
   ],
   "source": [
    "#set all column names to be lowercase names\n",
    "pm_clean.columns=pm_clean.columns.str.lower()\n",
    "print(pm_clean.columns)"
   ]
  },
  {
   "cell_type": "markdown",
   "metadata": {},
   "source": [
    "### Add a new column 'pm_average' to pm_clean\n",
    "Here, a new Series 'pm_average' containing float values representing the average pm2.5 readings from multiple stations in the same city is first created, then appended to the main set pm_clean"
   ]
  },
  {
   "cell_type": "code",
   "execution_count": 6,
   "metadata": {},
   "outputs": [
    {
     "name": "stdout",
     "output_type": "stream",
     "text": [
      "Index(['year', 'month', 'day', 'hour', 'season', 'dewp', 'humi', 'pres',\n",
      "       'temp', 'cbwd', 'iws', 'precipitation', 'iprec', 'city', 'pm_average'],\n",
      "      dtype='object')\n"
     ]
    }
   ],
   "source": [
    "#store the list of column names, for all relevent pm2.5 columns in pm_raw, in a variable named stations\n",
    "stations = ['PM_US Post','PM_Dongsi','PM_Dongsihuan','PM_Nongzhanguan','PM_Jingan','PM_Xuhui','PM_City Station','PM_5th Middle School','PM_Caotangsi','PM_Shahepu','PM_Taiyuanjie','PM_Xiaoheyan']\n",
    "\n",
    "#calculate the mean across all pm2.5 columns in pm_raw using axis=1\n",
    "#note: no need to calculate the mean for rows where 'city' is 'beijing_2', these data is intended to be handled in a separate subset pm_sr\n",
    "#note: during importing, pm readings are autofilled with NaNs (missing station data) for stations not belong to the city in that row, these NaNs from irrelevant stations will not participate in the calculation of the mean using skipna=True\n",
    "pm_average = pm_raw[pm_raw['city'] != 'beijing_2'].loc[:,stations].mean(axis=1,skipna=True)\n",
    "#assign a name to the new Series\n",
    "pm_average.name='pm_average'\n",
    "\n",
    "#check the length of pm_average before concatenating horizontally\n",
    "assert len(pm_average) == len(pm_clean)\n",
    "\n",
    "#append pm_average to pm_clean horizontally\n",
    "pm_clean = pd.concat([pm_clean,pm_average], axis=1)\n",
    "print(pm_clean.columns)"
   ]
  },
  {
   "cell_type": "markdown",
   "metadata": {},
   "source": [
    "### Deal with missing data in pm_clean:\n",
    "1) the one missing value in 'season' column is investigated and dropped, becase most other measurement data in this row are also missing<br>\n",
    "2) missing values in all measurement columns are filled using forward fill and backward fill. To prevent obscuring the trend by extending a value to too many NaNs, only forward fill and backward fill up to one adjacent row.<br>\n",
    "3) after filling, the rows with missing 'pm_average' data is dropped because pm data is the key focus in this set. For the rest of the missing data in columns 'dewp','humi','pres','temp','cbwd','iws','precipitation','iprec', leave them as they are, because the missing values in one of these columns will not impact the correlation between 'pm_average' and other columns.<br>\n",
    "4) reset index after completing all the dropping"
   ]
  },
  {
   "cell_type": "code",
   "execution_count": 7,
   "metadata": {},
   "outputs": [
    {
     "name": "stdout",
     "output_type": "stream",
     "text": [
      "        year  month  day  hour  season  dewp  humi  pres  temp cbwd  iws  \\\n",
      "157751  2015     12   31    23     NaN   NaN   NaN   NaN   NaN  NaN  NaN   \n",
      "\n",
      "        precipitation  iprec       city  pm_average  \n",
      "157751            NaN    NaN  guangzhou        63.0  \n",
      "numbers of rows before dropping missing data in 'pm_average' column: 262919\n",
      "numbers of rows after dropping missing data in 'pm_average' column: 175244\n",
      "numbers of rows before dropping missing data in other columns: 175244\n",
      "numbers of rows after dropping missing data in other columns: 168938\n",
      "<class 'pandas.core.frame.DataFrame'>\n",
      "RangeIndex: 168938 entries, 0 to 168937\n",
      "Data columns (total 15 columns):\n",
      "year             168938 non-null int64\n",
      "month            168938 non-null int64\n",
      "day              168938 non-null int64\n",
      "hour             168938 non-null int64\n",
      "season           168938 non-null float64\n",
      "dewp             168938 non-null float64\n",
      "humi             168938 non-null float64\n",
      "pres             168938 non-null float64\n",
      "temp             168938 non-null float64\n",
      "cbwd             168938 non-null object\n",
      "iws              168938 non-null float64\n",
      "precipitation    168938 non-null float64\n",
      "iprec            168938 non-null float64\n",
      "city             168938 non-null object\n",
      "pm_average       168938 non-null float64\n",
      "dtypes: float64(9), int64(4), object(2)\n",
      "memory usage: 19.3+ MB\n",
      "None\n"
     ]
    }
   ],
   "source": [
    "#1) identify missing values in 'season' column\n",
    "pm_clean['season'].value_counts(dropna=False)\n",
    "#look into the row with missing values in 'season' column\n",
    "#note: all the measurement data is missing in this row except for the 'pm_average' column\n",
    "print(pm_clean[pm_clean['season'].isna()])\n",
    "#drop this particular row with too many NaNs\n",
    "pm_clean.dropna(subset=['season'],inplace=True)\n",
    "#confirm no missing data in 'season' column\n",
    "assert pm_clean['season'].notnull().all()\n",
    "\n",
    "#2) deal with missing data in all other columns, i.e.: 'pm_average','dewp','humi','pres','temp','cbwd','iws','precipitation','iprec'\n",
    "#first use method='ffill' and limit=1 to fill in missing values down the columns for up to one row only\n",
    "###pm_clean.fillna(method='ffill',limit=1,inplace=True)\n",
    "#then use method='bfill' and limit=1 to fill in missing values up the columns for up to one row only\n",
    "###pm_clean.fillna(method='bfill',limit=1,inplace=True)\n",
    "\n",
    "#3) for the rest of the missing data: drop rows with missing 'pm_average' data\n",
    "print(\"numbers of rows before dropping missing data in 'pm_average' column:\", len(pm_clean))\n",
    "pm_clean = pm_clean[pm_clean['pm_average'].notna()]\n",
    "print(\"numbers of rows after dropping missing data in 'pm_average' column:\", len(pm_clean))\n",
    "\n",
    "#4) drop any other rows with missing data\n",
    "print(\"numbers of rows before dropping missing data in other columns:\", len(pm_clean))\n",
    "pm_clean = pm_clean.dropna()\n",
    "print(\"numbers of rows after dropping missing data in other columns:\", len(pm_clean))\n",
    "\n",
    "#5) update index after dropping\n",
    "pm_clean.reset_index(drop=True,inplace=True)\n",
    "print(pm_clean.info())"
   ]
  },
  {
   "cell_type": "markdown",
   "metadata": {},
   "source": [
    "### Convert the data types in 'season' column:\n",
    "The above results also reveal that the 'season' column has a data type of float64, even though it only has four unique values of 1.0, 2.0, 3.0 and 4.0. Converting dtype in 'season' from float to int will help to save up on memory."
   ]
  },
  {
   "cell_type": "code",
   "execution_count": 8,
   "metadata": {},
   "outputs": [],
   "source": [
    "#convert the data type of 'season' column from float to int\n",
    "pm_clean['season'] = pm_clean['season'].astype(int)"
   ]
  },
  {
   "cell_type": "markdown",
   "metadata": {},
   "source": [
    "### Add DateTime format column 'date_time' to pm_clean\n",
    "A new column named 'date_time' is created to store the DateTime format data from time-related columns:'year','month','day','hour'. <br>\n",
    "Here, we keep both individual columns for 'year','month','day','hour','season' and the combined 'date_time' column in pm_clean. The former is great for use in groupbys, whereas the later is great for plotting time series data."
   ]
  },
  {
   "cell_type": "code",
   "execution_count": 9,
   "metadata": {},
   "outputs": [
    {
     "name": "stdout",
     "output_type": "stream",
     "text": [
      "0    2010010123\n",
      "1    2010010200\n",
      "2    2010010201\n",
      "Name: date_time, dtype: object\n",
      "0   2010-01-01 23:00:00\n",
      "1   2010-01-02 00:00:00\n",
      "2   2010-01-02 01:00:00\n",
      "Name: date_time, dtype: datetime64[ns]\n"
     ]
    }
   ],
   "source": [
    "#initialize an empty column named 'date_time'\n",
    "pm_clean['date_time']=''\n",
    "#iterate through 'year','month','day','hour' columns, convert int/float to string type, append to 'date_time' column\n",
    "for idx, col in enumerate(pm_clean.columns[0:4]):\n",
    "    #convert to string data type\n",
    "    to_str = pm_clean[col].astype(str)\n",
    "    #for 'month','day' and 'hour', update all string lengths to 2 by filling in 0 from the left  \n",
    "    to_str = pd.Series([('0'+entry) if len(entry) < 2 else entry for entry in to_str])   \n",
    "    #use string concatenation to append each time string to the 'date_time' column\n",
    "    pm_clean['date_time'] += to_str\n",
    "    \n",
    "#doublecheck values in 'date_time' column before converting to DateTime format\n",
    "print(pm_clean['date_time'].head(3))\n",
    "#convert 'date_time' column from string object to DateTime object\n",
    "pm_clean['date_time'] = pd.to_datetime(pm_clean['date_time'], format='%Y%m%d%H')\n",
    "\n",
    "#doublecheck the values in 'date_time' column after converting\n",
    "print(pm_clean['date_time'].head(3))"
   ]
  },
  {
   "cell_type": "markdown",
   "metadata": {},
   "source": [
    "### Add column 'ws' for hourly wind speed to pm_clean\n",
    "'iws' column records the cumulated wind speed over time, but the numbers in this column were periodically reset to zero when wind direction alter, causing undesired artifacts. Therefore, it makes better sense to extract the hourly wind speed data from 'iws' and evalutate the correlation between PM2.5 and hourly wind speed as well.</p>"
   ]
  },
  {
   "cell_type": "code",
   "execution_count": 10,
   "metadata": {},
   "outputs": [],
   "source": [
    "pm_clean['ws'] = np.nan\n",
    "\n",
    "#loop over rows and compute hourly wind speed using cumulated wind speed 'iws'\n",
    "for idx in range(len(pm_clean)):\n",
    "    #for the first entry in each city, cumulated wind speed is equivalent to hourly wind speed\n",
    "    if idx == 0 or pm_clean.loc[idx,'city'] != pm_clean.loc[idx-1,'city']: \n",
    "        pm_clean.loc[idx, 'ws'] = pm_clean.loc[idx, 'iws']\n",
    "        continue    \n",
    "    #if the wind direction remains the same and the cumulated wind speed is increasing in number, substract previous 'iws' from current 'iws' to compute the hourly wind speed\n",
    "    if pm_clean.loc[idx,'cbwd'] == pm_clean.loc[idx-1,'cbwd'] and pm_clean.loc[idx,'iws'] >= pm_clean.loc[idx-1,'iws']: \n",
    "        pm_clean.loc[idx,'ws'] = pm_clean.loc[idx,'iws'] - pm_clean.loc[idx-1,'iws']\n",
    "    #otherwise, cumulated wind speed in this row is not cumulative, assign it directly to the 'ws' column\n",
    "    else:\n",
    "        pm_clean.loc[idx,'ws'] = pm_clean.loc[idx,'iws']"
   ]
  },
  {
   "cell_type": "markdown",
   "metadata": {},
   "source": [
    "### Identify outliers\n",
    "Here, the summary statistics are shown for all the numerical columns. A few unusual numbers are noticed:<br> \n",
    "1) large values (max 185) are noticed from the 'ws' column; Typically, wind speed of 25 m/s is considered to be very strong storm with significant structural damage, therefore values larger than 25 m/s are considered outliers and should be removed; <br>\n",
    "2) min values in 'dewp' and 'humi' look unreasonably small/negative; <br>\n",
    "these could be the potential outliers to further investigate in. "
   ]
  },
  {
   "cell_type": "code",
   "execution_count": 11,
   "metadata": {},
   "outputs": [
    {
     "name": "stdout",
     "output_type": "stream",
     "text": [
      "                year          month            day           hour  \\\n",
      "count  168938.000000  168938.000000  168938.000000  168938.000000   \n",
      "mean     2013.314518       6.625957      15.795677      11.517687   \n",
      "std         1.383579       3.466264       8.823622       6.913725   \n",
      "min      2010.000000       1.000000       1.000000       0.000000   \n",
      "25%      2012.000000       4.000000       8.000000       6.000000   \n",
      "50%      2013.000000       7.000000      16.000000      12.000000   \n",
      "75%      2014.000000      10.000000      23.000000      18.000000   \n",
      "max      2015.000000      12.000000      31.000000      23.000000   \n",
      "\n",
      "              season           dewp           humi           pres  \\\n",
      "count  168938.000000  168938.000000  168938.000000  168938.000000   \n",
      "mean        2.509447       8.209177      65.819678    1013.715425   \n",
      "std         1.113456      50.383686      54.067389      10.106136   \n",
      "min         1.000000   -9999.000000   -9999.000000     975.000000   \n",
      "25%         2.000000       0.000000      50.080000    1006.000000   \n",
      "50%         3.000000      11.000000      70.000000    1013.000000   \n",
      "75%         3.000000      19.000000      86.000000    1021.000000   \n",
      "max         4.000000      28.000000     100.000000    1046.000000   \n",
      "\n",
      "                temp            iws  precipitation          iprec  \\\n",
      "count  168938.000000  168938.000000  168938.000000  168938.000000   \n",
      "mean       15.781471      22.100626       0.124291       0.649171   \n",
      "std        11.157706      46.963625       1.180810       5.373177   \n",
      "min       -27.000000       0.000000       0.000000       0.000000   \n",
      "25%         8.000000       2.000000       0.000000       0.000000   \n",
      "50%        18.000000       5.300000       0.000000       0.000000   \n",
      "75%        24.500000      19.000000       0.000000       0.000000   \n",
      "max        42.000000     691.000000      90.400002     226.400000   \n",
      "\n",
      "          pm_average             ws  \n",
      "count  168938.000000  168938.000000  \n",
      "mean       73.903970       2.860613  \n",
      "std        68.598496       2.256902  \n",
      "min         1.000000       0.000000  \n",
      "25%        29.000000       1.200000  \n",
      "50%        53.333333       2.000000  \n",
      "75%        94.000000       4.000000  \n",
      "max      1065.500000     185.000000  \n"
     ]
    }
   ],
   "source": [
    "# look at the summary statistics for all numerical columns to spot outliers\n",
    "print(pm_clean.describe())"
   ]
  },
  {
   "cell_type": "markdown",
   "metadata": {},
   "source": [
    "### Remove outliers in the 'ws' column"
   ]
  },
  {
   "cell_type": "code",
   "execution_count": 12,
   "metadata": {},
   "outputs": [
    {
     "name": "stdout",
     "output_type": "stream",
     "text": [
      "# of observations before dropping outliers in 'ws' column:  168938\n",
      "# of observations after dropping outliers in 'ws' column:  168895\n"
     ]
    }
   ],
   "source": [
    "#drop entries with hourly wind speed above 25 m/s, as they are likely to be outliers\n",
    "print(\"# of observations before dropping outliers in 'ws' column: \", len(pm_clean))\n",
    "pm_clean = pm_clean[pm_clean['ws'] <= 25]\n",
    "print(\"# of observations after dropping outliers in 'ws' column: \", len(pm_clean))\n",
    "#reset index after dropping\n",
    "pm_clean.reset_index(inplace=True, drop=True)"
   ]
  },
  {
   "cell_type": "markdown",
   "metadata": {},
   "source": [
    "### Exam the 'iws' column for outliers\n",
    "Here, histogram and boxplot are used to exam the numeric values in 'iws' column. In addition, the entries near the largest 'iws' value are printed out. The plots and nearby entries reveal that the high values near row 55553 are not necessarily outliers. No action is necessary.  "
   ]
  },
  {
   "cell_type": "code",
   "execution_count": 13,
   "metadata": {},
   "outputs": [
    {
     "name": "stdout",
     "output_type": "stream",
     "text": [
      "54534\n",
      "54532    679.0\n",
      "54533    685.0\n",
      "54534    691.0\n",
      "54535      5.0\n",
      "54536      6.0\n",
      "Name: iws, dtype: float64\n"
     ]
    },
    {
     "data": {
      "image/png": "[encoded data removed]",
      "text/plain": [
       "<Figure size 432x288 with 2 Axes>"
      ]
     },
     "metadata": {},
     "output_type": "display_data"
    }
   ],
   "source": [
    "#plot histogram of the 'iws' column\n",
    "plt.subplot(1,2,1)\n",
    "pm_clean['iws'].plot(kind='hist',bins=20, logy=True)\n",
    "plt.xlabel('Integrated Wind Speed (m/s)')\n",
    "plt.title('histogram of iws')\n",
    "\n",
    "#plot the boxplot of the 'iws' column\n",
    "plt.subplot(1,2,2)\n",
    "pm_clean['iws'].plot(kind='box')\n",
    "plt.ylabel('Integrated Wind Speed (m/s)')\n",
    "plt.title('boxplot for iws')\n",
    "plt.tight_layout()\n",
    "\n",
    "#print the entries near the largest 'iws' value\n",
    "print(pm_clean['iws'].idxmax())\n",
    "print(pm_clean.loc[54532:54536,'iws'])"
   ]
  },
  {
   "cell_type": "markdown",
   "metadata": {},
   "source": [
    "### Exam the 'precipitation' column for outliers\n",
    "Here, histogram and boxplot are used to exam the numeric values in the 'precipitation' column. In addition, the entries near the largest 'precipitation' value are printed out. The plots and nearby entries reveal that the high values near row 111710 are not necessarily outliers. No action is necessary."
   ]
  },
  {
   "cell_type": "code",
   "execution_count": 14,
   "metadata": {},
   "outputs": [
    {
     "name": "stdout",
     "output_type": "stream",
     "text": [
      "111710\n",
      "111708     0.000000\n",
      "111709     0.400000\n",
      "111710    90.400002\n",
      "111711    35.200001\n",
      "111712     0.000000\n",
      "Name: precipitation, dtype: float64\n"
     ]
    },
    {
     "data": {
      "image/png": "[encoded data removed]",
      "text/plain": [
       "<Figure size 432x288 with 2 Axes>"
      ]
     },
     "metadata": {},
     "output_type": "display_data"
    }
   ],
   "source": [
    "#plot histogram of the 'precipitation' column\n",
    "plt.subplot(1,2,1)\n",
    "pm_clean['precipitation'].plot(kind='hist',bins=20, logy=True)\n",
    "plt.xlabel('Hourly precipitation (mm)')\n",
    "plt.title('Histogram of hourly precipitation')\n",
    "\n",
    "#plot the boxplot of the 'precipitation' column\n",
    "plt.subplot(1,2,2)\n",
    "pm_clean['precipitation'].plot(kind='box')\n",
    "plt.ylabel('Hourly precipitation (mm)')\n",
    "plt.title('Boxplot for hourly precipitation')\n",
    "plt.tight_layout()\n",
    "\n",
    "#print the entries near the largest 'precipitation' value\n",
    "print(pm_clean['precipitation'].idxmax())\n",
    "print(pm_clean.loc[111708:111712,'precipitation'])"
   ]
  },
  {
   "cell_type": "markdown",
   "metadata": {},
   "source": [
    "### Exam the 'iprec' column for outliers\n",
    "Here, histogram and boxplot are used to exam the numeric values in the 'iprec' column. In addition, the entries near the largest 'iprec' value are printed out. The plots and nearby entries reveal that the high values near row 64885 are not necessarily outliers. No action is necessary."
   ]
  },
  {
   "cell_type": "code",
   "execution_count": 15,
   "metadata": {},
   "outputs": [
    {
     "name": "stdout",
     "output_type": "stream",
     "text": [
      "64885\n",
      "64882    225.7\n",
      "64883    225.8\n",
      "64884    225.9\n",
      "64885    226.4\n",
      "64886      0.0\n",
      "64887      0.3\n",
      "64888      1.1\n",
      "Name: iprec, dtype: float64\n"
     ]
    },
    {
     "data": {
      "image/png": "[encoded data removed]",
      "text/plain": [
       "<Figure size 432x288 with 2 Axes>"
      ]
     },
     "metadata": {},
     "output_type": "display_data"
    }
   ],
   "source": [
    "#plot histogram of the 'iprec' column\n",
    "plt.subplot(1,2,1)\n",
    "pm_clean['iprec'].plot(kind='hist',bins=20, logy=True)\n",
    "plt.xlabel('Cumulated precipitation (mm)')\n",
    "plt.title('Histogram of cumulated precipitation')\n",
    "\n",
    "#plot the boxplot of the 'iprec' column\n",
    "plt.subplot(1,2,2)\n",
    "pm_clean['iprec'].plot(kind='box')\n",
    "plt.ylabel('Cumulated precipitation (mm)')\n",
    "plt.title('Boxplot for cumulated precipitation')\n",
    "plt.tight_layout()\n",
    "\n",
    "#print the entries near the largest 'iprec' value\n",
    "print(pm_clean['iprec'].idxmax())\n",
    "print(pm_clean.loc[64882:64888,'iprec'])"
   ]
  },
  {
   "cell_type": "markdown",
   "metadata": {},
   "source": [
    "### Exam the 'pm_average' column for outliers\n",
    "Here, histogram and boxplot are used to exam the numeric values in the 'pm_average' column. In addition, the entries near the largest 'pm_average' value are printed out. The plots and nearby entries reveal that the high values near row 161953 are not likely to be outliers."
   ]
  },
  {
   "cell_type": "code",
   "execution_count": 16,
   "metadata": {},
   "outputs": [
    {
     "name": "stdout",
     "output_type": "stream",
     "text": [
      "161953\n",
      "161950     162.333333\n",
      "161951     193.666667\n",
      "161952     367.500000\n",
      "161953    1065.500000\n",
      "161954    1021.000000\n",
      "161955     845.333333\n",
      "Name: pm_average, dtype: float64\n"
     ]
    },
    {
     "data": {
      "image/png": "[encoded data removed]",
      "text/plain": [
       "<Figure size 432x288 with 2 Axes>"
      ]
     },
     "metadata": {},
     "output_type": "display_data"
    }
   ],
   "source": [
    "#plot histogram of the 'pm_average' column\n",
    "plt.subplot(1,2,1)\n",
    "pm_clean['pm_average'].plot(kind='hist',bins=20, logy=True)\n",
    "plt.xlabel('PM2.5')\n",
    "plt.title('Histogram of pm2.5 data')\n",
    "\n",
    "#plot the boxplot of the 'pm_average' column\n",
    "plt.subplot(1,2,2)\n",
    "pm_clean['pm_average'].plot(kind='box')\n",
    "plt.ylabel('PM2.5')\n",
    "plt.title('Boxplot of pm2.5 data')\n",
    "plt.tight_layout()\n",
    "\n",
    "#print the entries near the largest 'pm2.5' value\n",
    "print(pm_clean['pm_average'].idxmax())\n",
    "print(pm_clean.loc[161950:161955,'pm_average'])"
   ]
  },
  {
   "cell_type": "markdown",
   "metadata": {},
   "source": [
    "### Exam the 'dewp' column for outliers\n",
    "Here, histogram and boxplot are used to exam the numeric values in the 'dewp' column. In addition, the entries near the lowest 'dewp' value are printed out. The plots and nearby entries reveal that the min values at row 97790:97793 are definitely outliers. Therefore, their values are replaced by the nearest valid entry."
   ]
  },
  {
   "cell_type": "code",
   "execution_count": 17,
   "metadata": {},
   "outputs": [
    {
     "name": "stdout",
     "output_type": "stream",
     "text": [
      "97790\n",
      "97788      13.2\n",
      "97789      13.0\n",
      "97790   -9999.0\n",
      "97791   -9999.0\n",
      "97792   -9999.0\n",
      "97793   -9999.0\n",
      "97794      13.4\n",
      "97795      12.1\n",
      "Name: dewp, dtype: float64\n"
     ]
    },
    {
     "data": {
      "image/png": "[encoded data removed]",
      "text/plain": [
       "<Figure size 432x288 with 2 Axes>"
      ]
     },
     "metadata": {},
     "output_type": "display_data"
    }
   ],
   "source": [
    "#plot histogram of the 'dewp' column\n",
    "plt.subplot(1,2,1)\n",
    "pm_clean['dewp'].plot(kind='hist',bins=20, logy=True)\n",
    "plt.xlabel('Dew point (Degree Celsius)')\n",
    "plt.title('Histogram of dew point')\n",
    "\n",
    "#plot the boxplot of the 'dewp' column\n",
    "plt.subplot(1,2,2)\n",
    "pm_clean['dewp'].plot(kind='box')\n",
    "plt.ylabel('Dew point (Degree Celsius)')\n",
    "plt.title('Boxplot for dew point')\n",
    "plt.tight_layout()\n",
    "\n",
    "#print the entries near the lowest 'dewp' value\n",
    "print(pm_clean['dewp'].idxmin())\n",
    "print(pm_clean.loc[97788:97795,'dewp'])\n",
    "\n",
    "#remove the outliers by replacing their values with the nearest valid entry 13.2\n",
    "pm_clean.loc[97790:97793,'dewp'] = 13.2"
   ]
  },
  {
   "cell_type": "markdown",
   "metadata": {},
   "source": [
    "### Exam the 'humi' column for outliers\n",
    "Here, histogram and boxplot are used to exam the numeric values in the 'humi' column. In addition, the entries near the lowest 'humi' value are printed out. These reveal that the negative values at row 97790:97793 are definitely outliers. Therefore, their values are replaced by the nearest valid entry."
   ]
  },
  {
   "cell_type": "code",
   "execution_count": 18,
   "metadata": {},
   "outputs": [
    {
     "name": "stdout",
     "output_type": "stream",
     "text": [
      "97790\n",
      "97788     100.0\n",
      "97789     100.0\n",
      "97790   -9999.0\n",
      "97791   -9999.0\n",
      "97792   -9999.0\n",
      "97793   -9999.0\n",
      "97794     100.0\n",
      "97795      95.0\n",
      "Name: humi, dtype: float64\n"
     ]
    },
    {
     "data": {
      "image/png": "[encoded data removed]",
      "text/plain": [
       "<Figure size 432x288 with 2 Axes>"
      ]
     },
     "metadata": {},
     "output_type": "display_data"
    }
   ],
   "source": [
    "#plot histogram of the 'humi' column\n",
    "plt.subplot(1,2,1)\n",
    "pm_clean['humi'].plot(kind='hist',bins=20, logy=True)\n",
    "plt.xlabel('Humidity (%)')\n",
    "plt.title('Histogram of humidity')\n",
    "\n",
    "#plot the boxplot of the 'humi' column\n",
    "plt.subplot(1,2,2)\n",
    "pm_clean['humi'].plot(kind='box')\n",
    "plt.ylabel('Humidity (%)')\n",
    "plt.title('Boxplot for humidity')\n",
    "plt.tight_layout()\n",
    "\n",
    "#print the entries near the lowest 'humi' value\n",
    "print(pm_clean['humi'].idxmin())\n",
    "print(pm_clean.loc[97788:97795,'humi'])\n",
    "\n",
    "#remove the outliers by replacing their values with the nearest valid entry 100.0\n",
    "pm_clean.loc[97790:97793,'humi'] = 100.0"
   ]
  },
  {
   "cell_type": "markdown",
   "metadata": {},
   "source": [
    "### Exam the valid entries in the non-numerical column 'cbwd'\n",
    "The values in the non-numerical column 'cbwd'(combined wind direction) are examed. Both lowercase values and uppercases values are present. Values need to be updated to all uppercases. "
   ]
  },
  {
   "cell_type": "code",
   "execution_count": 19,
   "metadata": {},
   "outputs": [
    {
     "name": "stdout",
     "output_type": "stream",
     "text": [
      "NW    42969\n",
      "SE    39511\n",
      "NE    37323\n",
      "cv    27876\n",
      "SW    21216\n",
      "Name: cbwd, dtype: int64\n"
     ]
    }
   ],
   "source": [
    "print(pm_clean['cbwd'].value_counts(dropna=False))\n",
    "#update all letters to uppercases for all valid entries in this column\n",
    "pm_clean['cbwd']=pm_clean['cbwd'].str.upper()"
   ]
  },
  {
   "cell_type": "markdown",
   "metadata": {},
   "source": [
    "### Save the cleaned dataset pm_clean to CSV file\n",
    "Now the main set pm_clean is cleaned up and ready for analysis. Export it to file for documentation and future analysis."
   ]
  },
  {
   "cell_type": "code",
   "execution_count": 20,
   "metadata": {},
   "outputs": [],
   "source": [
    "#save pm_clean to csv file\n",
    "pm_clean.to_csv(path_or_buf='pm_clean.csv')"
   ]
  },
  {
   "cell_type": "markdown",
   "metadata": {},
   "source": [
    "## 5. pm_stations: extraction, data wrangling and export\n",
    "pm_stations is a side dataset extracted from the raw dataset pm_raw.<br>\n",
    "It contains s thetation-specific individual PM2.5 readings, and serves the purpose of comparing the measurement consistency among stations for each city."
   ]
  },
  {
   "cell_type": "markdown",
   "metadata": {},
   "source": [
    "### Extract pm_stations from pm_raw"
   ]
  },
  {
   "cell_type": "code",
   "execution_count": 21,
   "metadata": {},
   "outputs": [],
   "source": [
    "#slice relevent columns from pm_raw and store in the dataset pm_stations\n",
    "pm_stations = pm_raw[['year','month','day','hour','season','city','PM_US Post','PM_Dongsi','PM_Dongsihuan','PM_Nongzhanguan','PM_Jingan','PM_Xuhui','PM_City Station','PM_5th Middle School','PM_Caotangsi','PM_Shahepu','PM_Taiyuanjie','PM_Xiaoheyan']]"
   ]
  },
  {
   "cell_type": "markdown",
   "metadata": {},
   "source": [
    "### Drop irrelevant entries from pm_stations"
   ]
  },
  {
   "cell_type": "code",
   "execution_count": 22,
   "metadata": {},
   "outputs": [],
   "source": [
    "#drop all data from pm_stations where 'city' is 'beijing_2', these data is intended to be handled in a separate subset named pm_sr\n",
    "pm_stations = pm_stations[pm_stations['city'] != 'beijing_2']\n",
    "#update index and discard the original\n",
    "pm_stations.reset_index(drop=True,inplace=True)"
   ]
  },
  {
   "cell_type": "markdown",
   "metadata": {},
   "source": [
    "### Set uniform format for column names"
   ]
  },
  {
   "cell_type": "code",
   "execution_count": 23,
   "metadata": {
    "scrolled": true
   },
   "outputs": [
    {
     "name": "stdout",
     "output_type": "stream",
     "text": [
      "Index(['year', 'month', 'day', 'hour', 'season', 'city', 'pm_us post',\n",
      "       'pm_dongsi', 'pm_dongsihuan', 'pm_nongzhanguan', 'pm_jingan',\n",
      "       'pm_xuhui', 'pm_city station', 'pm_5th middle school', 'pm_caotangsi',\n",
      "       'pm_shahepu', 'pm_taiyuanjie', 'pm_xiaoheyan'],\n",
      "      dtype='object')\n"
     ]
    }
   ],
   "source": [
    "#update all column names to be lowercase names\n",
    "pm_stations.columns=pm_stations.columns.str.lower()\n",
    "print(pm_stations.columns)"
   ]
  },
  {
   "cell_type": "markdown",
   "metadata": {},
   "source": [
    "### Deal with missing data in columns with names featuring 'pm_'\n",
    "These columns store the raw pm2.5 data collected at individual stations. <br>\n",
    "Each station is associated with a particular city. For the cities the station doesn't belong to, their values will be labeled as NaN. Therefore, it's expect to have many NaNs in these columns, since each row is for only one out of the five cities. <br>\n",
    "Since we will only compare the station data originated from the same city, it's ok to leave the rest of the missing values as they are. <br>\n",
    "But for rows where all station data are missing (values in 'pm_*' columns are all labeled as NaNs), these rows are useless and need to be remov"
   ]
  },
  {
   "cell_type": "code",
   "execution_count": 24,
   "metadata": {},
   "outputs": [],
   "source": [
    "#drop rows where data in pm columns are all missing\n",
    "stations=['pm_us post','pm_dongsi','pm_dongsihuan','pm_nongzhanguan','pm_jingan','pm_xuhui','pm_city station','pm_5th middle school','pm_caotangsi','pm_shahepu','pm_taiyuanjie','pm_xiaoheyan']\n",
    "pm_stations.dropna(how='all',inplace=True, subset=stations)\n",
    "#reset the index by dropping the original\n",
    "pm_stations.reset_index(drop=True,inplace=True)"
   ]
  },
  {
   "cell_type": "markdown",
   "metadata": {},
   "source": [
    "### Deal with missing data in the 'season' column: \n",
    "locate and fill in the one missing value in the 'season' column with its previous entry, because they share the same 'season' values as they are entries for different hours on the same day in the same season. "
   ]
  },
  {
   "cell_type": "code",
   "execution_count": 25,
   "metadata": {},
   "outputs": [
    {
     "name": "stdout",
     "output_type": "stream",
     "text": [
      "        year  month  day  hour  season       city  pm_us post  pm_dongsi  \\\n",
      "118857  2015     12   31    23     NaN  guangzhou        63.0        NaN   \n",
      "\n",
      "        pm_dongsihuan  pm_nongzhanguan  pm_jingan  pm_xuhui  pm_city station  \\\n",
      "118857            NaN              NaN        NaN       NaN             63.0   \n",
      "\n",
      "        pm_5th middle school  pm_caotangsi  pm_shahepu  pm_taiyuanjie  \\\n",
      "118857                   NaN           NaN         NaN            NaN   \n",
      "\n",
      "        pm_xiaoheyan  \n",
      "118857           NaN  \n"
     ]
    }
   ],
   "source": [
    "print(pm_stations[pm_stations['season'].isna()])\n",
    "#look at its nearby entry, and replace the missing value with its nearby entry\n",
    "pm_stations.loc[118857,'season'] = pm_stations.loc[118856,'season']\n",
    "#confirm no presence of missing values in 'season'\n",
    "assert pm_stations['season'].notnull().all()"
   ]
  },
  {
   "cell_type": "markdown",
   "metadata": {},
   "source": [
    "### Update the data type in the 'season' column from float to int"
   ]
  },
  {
   "cell_type": "code",
   "execution_count": 26,
   "metadata": {},
   "outputs": [],
   "source": [
    "#convert the data type of 'season' column from float to int to save on memory\n",
    "pm_stations['season'] = pm_stations['season'].astype(int)"
   ]
  },
  {
   "cell_type": "markdown",
   "metadata": {},
   "source": [
    "### Add DateTime format column 'date_time' to pm_stations\n",
    "A new column named 'date_time' is created to store the DateTime format data from the time-related columns:'year','month','day','hour'.<br>\n",
    "Set the newly created 'date_time' column as DateTime Index for future analysis purposes."
   ]
  },
  {
   "cell_type": "code",
   "execution_count": 27,
   "metadata": {},
   "outputs": [
    {
     "name": "stdout",
     "output_type": "stream",
     "text": [
      "0    2010010123\n",
      "1    2010010200\n",
      "2    2010010201\n",
      "Name: date_time, dtype: object\n",
      "DatetimeIndex(['2010-01-01 23:00:00', '2010-01-02 00:00:00',\n",
      "               '2010-01-02 01:00:00', '2010-01-02 02:00:00',\n",
      "               '2010-01-02 03:00:00', '2010-01-02 04:00:00',\n",
      "               '2010-01-02 05:00:00', '2010-01-02 06:00:00',\n",
      "               '2010-01-02 07:00:00', '2010-01-02 08:00:00',\n",
      "               ...\n",
      "               '2015-12-31 14:00:00', '2015-12-31 15:00:00',\n",
      "               '2015-12-31 16:00:00', '2015-12-31 17:00:00',\n",
      "               '2015-12-31 18:00:00', '2015-12-31 19:00:00',\n",
      "               '2015-12-31 20:00:00', '2015-12-31 21:00:00',\n",
      "               '2015-12-31 22:00:00', '2015-12-31 23:00:00'],\n",
      "              dtype='datetime64[ns]', name='date_time', length=175245, freq=None)\n"
     ]
    }
   ],
   "source": [
    "#initialize an empty column named 'date_time'\n",
    "pm_stations['date_time']=''\n",
    "#iterate through 'year','month','day','hour' columns, convert int/float to string type, append to 'date_time' column\n",
    "for idx, col in enumerate(pm_stations.columns[0:4]):\n",
    "    #convert to string data type\n",
    "    to_str = pm_stations[col].astype(str)\n",
    "    #for 'month','day' and 'hour', update all string lengths to 2 by filling in 0 from the left  \n",
    "    to_str = pd.Series([('0'+entry) if len(entry) < 2 else entry for entry in to_str])   \n",
    "    #use string concatenation to append each time string to the 'date_time' column\n",
    "    pm_stations['date_time'] += to_str\n",
    "    \n",
    "#doublecheck values in 'date_time' column before converting to DateTime format\n",
    "print(pm_stations['date_time'].head(3))\n",
    "#convert 'date_time' column from string object to DateTime object\n",
    "pm_stations['date_time'] = pd.to_datetime(pm_stations['date_time'], format='%Y%m%d%H')\n",
    "\n",
    "#set the 'date_time' column as the DateTime index\n",
    "pm_stations.set_index('date_time',inplace=True)\n",
    "print(pm_stations.index)"
   ]
  },
  {
   "cell_type": "markdown",
   "metadata": {},
   "source": [
    "### Save the cleaned dataset pm_stations to CSV file\n",
    "Now the dataset pm_stations is cleaned up and ready for analysis. Export it to file for documentation and future analysis."
   ]
  },
  {
   "cell_type": "code",
   "execution_count": 28,
   "metadata": {},
   "outputs": [],
   "source": [
    "#save pm_stations to file\n",
    "pm_stations.to_csv(path_or_buf='pm_stations.csv')"
   ]
  },
  {
   "cell_type": "markdown",
   "metadata": {},
   "source": [
    "## 6. pm_sr: extract, data wrangling and export\n",
    "pm_sr is a side dataset extracted from the raw dataset pm_raw. <br>\n",
    "It contains information on cumulated hours of snows and rains (column 'Ir' and 'Is') for city 'beijing_2', and serves the purpose of comparing the impact of snow versus rain on PM2.5 readings."
   ]
  },
  {
   "cell_type": "markdown",
   "metadata": {},
   "source": [
    "### Extract pm_sr from pm_raw"
   ]
  },
  {
   "cell_type": "code",
   "execution_count": 29,
   "metadata": {},
   "outputs": [],
   "source": [
    "#slice relevent columns from pm_raw and store in the dataset pm_sr\n",
    "pm_sr = pm_raw[['year','month','day','hour','city','DEWP','PRES','TEMP','cbwd','Iws','pm2.5','Is','Ir']]"
   ]
  },
  {
   "cell_type": "markdown",
   "metadata": {},
   "source": [
    "### Drop irrelevant entries from pm_sr\n",
    "keep only entries/rows where 'city' is 'beijing_2' and drop all other rows, because only these rows associated with 'beijing_2' have measurement data in columns 'Ir' and 'Is'."
   ]
  },
  {
   "cell_type": "code",
   "execution_count": 30,
   "metadata": {},
   "outputs": [],
   "source": [
    "#keep only entries where 'city' is 'beijing_2' \n",
    "pm_sr = pm_sr[pm_sr['city'] == 'beijing_2']\n",
    "#update index by dropping the original\n",
    "pm_sr.reset_index(drop=True,inplace=True)"
   ]
  },
  {
   "cell_type": "markdown",
   "metadata": {},
   "source": [
    "### Set uniform format for column names"
   ]
  },
  {
   "cell_type": "code",
   "execution_count": 31,
   "metadata": {},
   "outputs": [
    {
     "name": "stdout",
     "output_type": "stream",
     "text": [
      "Index(['year', 'month', 'day', 'hour', 'city', 'dewp', 'pres', 'temp', 'cbwd',\n",
      "       'iws', 'pm2.5', 'is', 'ir'],\n",
      "      dtype='object')\n"
     ]
    }
   ],
   "source": [
    "#set all column names to be lowercases\n",
    "pm_sr.columns=pm_sr.columns.str.lower()\n",
    "print(pm_sr.columns)"
   ]
  },
  {
   "cell_type": "markdown",
   "metadata": {},
   "source": [
    "### Deal with missing data\n",
    "pm_sr.info() reveals that only the 'pm2.5' column in this dataset contains some missing data. Given the main purpose of this subset pm_sr is to compare the impact of snow('Is') vs rain('Ir') on PM2.5 readings('pm2.5'), rows with missing pm2.5 data are not useful and can be removed."
   ]
  },
  {
   "cell_type": "code",
   "execution_count": 32,
   "metadata": {},
   "outputs": [],
   "source": [
    "#drop rows with missing 'pm2.5' values as these rows are not useful\n",
    "pm_sr.dropna(subset=['pm2.5'],inplace=True)\n",
    "#update index by dropping the original\n",
    "pm_sr.reset_index(drop=True,inplace=True)"
   ]
  },
  {
   "cell_type": "markdown",
   "metadata": {},
   "source": [
    "### Exam potential outliers in numerical columns\n",
    "Use pm_sr.describe() to look at the summary statistics for all numerical columns. <br>\n",
    "The max values in columns 'iws','pm2.5', 'is' and 'ir' look much larger than the mean and 75% quantile, and could be potential outliers. <br>\n",
    "Plotting histograms reveal that none of these max values are obvious outliers, therefore no action is needed."
   ]
  },
  {
   "cell_type": "code",
   "execution_count": 33,
   "metadata": {},
   "outputs": [
    {
     "data": {
      "image/png": "[encoded data removed]",
      "text/plain": [
       "<Figure size 432x288 with 4 Axes>"
      ]
     },
     "metadata": {},
     "output_type": "display_data"
    }
   ],
   "source": [
    "#plot the value distribution in columns 'Iws','pm2.5','Is' and 'Ir'\n",
    "plt.subplot(2,2,1)\n",
    "pm_sr['iws'].plot(kind='hist',logy=True)\n",
    "plt.xlabel('Cumulated wind speed (m/s)')\n",
    "plt.subplot(2,2,2)\n",
    "pm_sr['pm2.5'].plot(kind='hist',logy=True)\n",
    "plt.xlabel('PM2.5 reading')\n",
    "plt.subplot(2,2,3)\n",
    "pm_sr['is'].plot(kind='hist',logy=True)\n",
    "plt.xlabel('Cumulated hours of snow (hr)')\n",
    "plt.subplot(2,2,4)\n",
    "pm_sr['ir'].plot(kind='hist',logy=True)\n",
    "plt.xlabel('Cumulated hours of rain (hr)')\n",
    "plt.tight_layout()"
   ]
  },
  {
   "cell_type": "markdown",
   "metadata": {},
   "source": [
    "### Exam the valid entries in the non-numerical column 'cbwd'\n",
    "The values in the non-numerical column 'cbwd'(combined wind direction) are examed. Both lowercase values and uppercases values are present. Update values to all uppercases."
   ]
  },
  {
   "cell_type": "code",
   "execution_count": 34,
   "metadata": {},
   "outputs": [
    {
     "name": "stdout",
     "output_type": "stream",
     "text": [
      "SE    14573\n",
      "NW    13484\n",
      "cv     8944\n",
      "NE     4756\n",
      "Name: cbwd, dtype: int64\n"
     ]
    }
   ],
   "source": [
    "print(pm_sr['cbwd'].value_counts())\n",
    "#update all values in this column to uppercases\n",
    "pm_sr['cbwd']=pm_sr['cbwd'].str.upper()"
   ]
  },
  {
   "cell_type": "markdown",
   "metadata": {},
   "source": [
    "### Add DateTime format column 'date_time' to pm_sr\n",
    "A new column named 'date_time' is created to store the DateTime format data from the time-related columns:'year','month','day','hour'."
   ]
  },
  {
   "cell_type": "code",
   "execution_count": 35,
   "metadata": {},
   "outputs": [],
   "source": [
    "#initialize an empty column named 'date_time'\n",
    "pm_sr['date_time']=''\n",
    "#iterate through 'year','month','day','hour' columns, convert int/float to string type, append to 'date_time' column\n",
    "for idx, col in enumerate(pm_sr.columns[0:4]):\n",
    "    #convert to string data type\n",
    "    to_str = pm_sr[col].astype(str)\n",
    "    #for 'month','day' and 'hour', update all string lengths to 2 by filling in 0 from the left  \n",
    "    to_str = pd.Series([('0'+entry) if len(entry) < 2 else entry for entry in to_str])   \n",
    "    #use string concatenation to append each time string to the 'date_time' column\n",
    "    pm_sr['date_time'] += to_str\n",
    "    \n",
    "#convert 'date_time' column from string object to DateTime object\n",
    "pm_sr['date_time'] = pd.to_datetime(pm_sr['date_time'], format='%Y%m%d%H')"
   ]
  },
  {
   "cell_type": "markdown",
   "metadata": {},
   "source": [
    "### Save the cleaned dataset pm_sr to CSV file\n",
    "Now the dataset pm_sr is cleaned up and ready for analysis. Export it to file for documentation and future analysis."
   ]
  },
  {
   "cell_type": "code",
   "execution_count": 36,
   "metadata": {},
   "outputs": [],
   "source": [
    "#save pm_sr to file\n",
    "pm_sr.to_csv(path_or_buf='pm_sr.csv')"
   ]
  },
  {
   "cell_type": "code",
   "execution_count": null,
   "metadata": {},
   "outputs": [],
   "source": []
  }
 ],
 "metadata": {
  "kernelspec": {
   "display_name": "Python 3",
   "language": "python",
   "name": "python3"
  },
  "language_info": {
   "codemirror_mode": {
    "name": "ipython",
    "version": 3
   },
   "file_extension": ".py",
   "mimetype": "text/x-python",
   "name": "python",
   "nbconvert_exporter": "python",
   "pygments_lexer": "ipython3",
   "version": "3.6.5"
  }
 },
 "nbformat": 4,
 "nbformat_minor": 2
}
